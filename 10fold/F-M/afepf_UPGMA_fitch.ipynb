{
 "cells": [
  {
   "cell_type": "code",
   "execution_count": 1,
   "metadata": {},
   "outputs": [
    {
     "name": "stderr",
     "output_type": "stream",
     "text": [
      "C:\\Users\\Elena\\Anaconda3\\lib\\site-packages\\ipykernel_launcher.py:66: SettingWithCopyWarning: \n",
      "A value is trying to be set on a copy of a slice from a DataFrame.\n",
      "Try using .loc[row_indexer,col_indexer] = value instead\n",
      "\n",
      "See the caveats in the documentation: http://pandas.pydata.org/pandas-docs/stable/indexing.html#indexing-view-versus-copy\n",
      "C:\\Users\\Elena\\Anaconda3\\lib\\site-packages\\ipykernel_launcher.py:66: SettingWithCopyWarning: \n",
      "A value is trying to be set on a copy of a slice from a DataFrame.\n",
      "Try using .loc[row_indexer,col_indexer] = value instead\n",
      "\n",
      "See the caveats in the documentation: http://pandas.pydata.org/pandas-docs/stable/indexing.html#indexing-view-versus-copy\n",
      "C:\\Users\\Elena\\Anaconda3\\lib\\site-packages\\ipykernel_launcher.py:66: SettingWithCopyWarning: \n",
      "A value is trying to be set on a copy of a slice from a DataFrame.\n",
      "Try using .loc[row_indexer,col_indexer] = value instead\n",
      "\n",
      "See the caveats in the documentation: http://pandas.pydata.org/pandas-docs/stable/indexing.html#indexing-view-versus-copy\n",
      "C:\\Users\\Elena\\Anaconda3\\lib\\site-packages\\ipykernel_launcher.py:66: SettingWithCopyWarning: \n",
      "A value is trying to be set on a copy of a slice from a DataFrame.\n",
      "Try using .loc[row_indexer,col_indexer] = value instead\n",
      "\n",
      "See the caveats in the documentation: http://pandas.pydata.org/pandas-docs/stable/indexing.html#indexing-view-versus-copy\n",
      "C:\\Users\\Elena\\Anaconda3\\lib\\site-packages\\ipykernel_launcher.py:66: SettingWithCopyWarning: \n",
      "A value is trying to be set on a copy of a slice from a DataFrame.\n",
      "Try using .loc[row_indexer,col_indexer] = value instead\n",
      "\n",
      "See the caveats in the documentation: http://pandas.pydata.org/pandas-docs/stable/indexing.html#indexing-view-versus-copy\n",
      "C:\\Users\\Elena\\Anaconda3\\lib\\site-packages\\ipykernel_launcher.py:66: SettingWithCopyWarning: \n",
      "A value is trying to be set on a copy of a slice from a DataFrame.\n",
      "Try using .loc[row_indexer,col_indexer] = value instead\n",
      "\n",
      "See the caveats in the documentation: http://pandas.pydata.org/pandas-docs/stable/indexing.html#indexing-view-versus-copy\n",
      "C:\\Users\\Elena\\Anaconda3\\lib\\site-packages\\ipykernel_launcher.py:66: SettingWithCopyWarning: \n",
      "A value is trying to be set on a copy of a slice from a DataFrame.\n",
      "Try using .loc[row_indexer,col_indexer] = value instead\n",
      "\n",
      "See the caveats in the documentation: http://pandas.pydata.org/pandas-docs/stable/indexing.html#indexing-view-versus-copy\n",
      "C:\\Users\\Elena\\Anaconda3\\lib\\site-packages\\ipykernel_launcher.py:66: SettingWithCopyWarning: \n",
      "A value is trying to be set on a copy of a slice from a DataFrame.\n",
      "Try using .loc[row_indexer,col_indexer] = value instead\n",
      "\n",
      "See the caveats in the documentation: http://pandas.pydata.org/pandas-docs/stable/indexing.html#indexing-view-versus-copy\n",
      "C:\\Users\\Elena\\Anaconda3\\lib\\site-packages\\ipykernel_launcher.py:66: SettingWithCopyWarning: \n",
      "A value is trying to be set on a copy of a slice from a DataFrame.\n",
      "Try using .loc[row_indexer,col_indexer] = value instead\n",
      "\n",
      "See the caveats in the documentation: http://pandas.pydata.org/pandas-docs/stable/indexing.html#indexing-view-versus-copy\n",
      "C:\\Users\\Elena\\Anaconda3\\lib\\site-packages\\ipykernel_launcher.py:66: SettingWithCopyWarning: \n",
      "A value is trying to be set on a copy of a slice from a DataFrame.\n",
      "Try using .loc[row_indexer,col_indexer] = value instead\n",
      "\n",
      "See the caveats in the documentation: http://pandas.pydata.org/pandas-docs/stable/indexing.html#indexing-view-versus-copy\n"
     ]
    }
   ],
   "source": [
    "from sklearn.ensemble import RandomForestClassifier\n",
    "from sklearn.metrics import accuracy_score\n",
    "from sklearn.metrics import f1_score\n",
    "from sklearn.metrics import precision_score\n",
    "from sklearn.metrics import precision_recall_curve\n",
    "from sklearn.metrics import roc_curve\n",
    "from sklearn.metrics import roc_auc_score\n",
    "from sklearn.metrics import average_precision_score\n",
    "from sklearn.model_selection import KFold\n",
    "import matplotlib.pyplot as plt\n",
    "import pandas as pd\n",
    "import numpy as np\n",
    "from scipy import interp\n",
    "\n",
    "\n",
    "fpr = []\n",
    "tpr = []\n",
    "pres = []\n",
    "rec = []\n",
    "roc_auc = []\n",
    "precision_score = []\n",
    "pres_rand = []\n",
    "precision_fifty = []\n",
    "precision_rand_fifty = []\n",
    "\n",
    "\n",
    "# open dfs\n",
    "bact_f = pd.read_table('proteobacteria-f_fitch-UPGMA.txt')\n",
    "bact_g = pd.read_table('proteobacteria-g_fitch-UPGMA.txt')\n",
    "fun = pd.read_table('fungi_fitch-UPGMA.txt')\n",
    "euk = pd.read_table('eukaryota_fitch-UPGMA.txt')\n",
    "archaea = pd.read_table('archaea_fitch-UPGMA.txt')\n",
    "\n",
    "# merging the training set\n",
    "frames = [archaea, fun, euk, bact_f]\n",
    "df = pd.concat(frames)\n",
    "\n",
    "\n",
    "# Create a list of the feature column's names\n",
    "features = df.columns[1:-1]\n",
    "\n",
    "# 10-fold cross-validation\n",
    "mean_fpr = np.linspace(0, 1, 100)\n",
    "kf = KFold(n_splits=10) \n",
    "for train_index, test_index in kf.split(df):\n",
    "    train, test = df.iloc[train_index], df.iloc[test_index]\n",
    "\n",
    "    X_train = train[features].as_matrix()\n",
    "    X_test = test[features].as_matrix()\n",
    "\n",
    "    y_train = train['division'] == 'fitch'\n",
    "    y_test = test['division'] == 'fitch'\n",
    "\n",
    "\n",
    "    # Create a random forest Classifier\n",
    "    clf = RandomForestClassifier(n_estimators = 1000)\n",
    "\n",
    "    # Train the Classifier to take the training features and learn how they relate to the training y (the species)\n",
    "    classifier = clf.fit(X_train, y_train)\n",
    "    predictions = pd.DataFrame(data = classifier.predict_proba(X_test))\n",
    "    predictions = predictions[1]\n",
    "    #create \"random prediction\" vector - let it be \"probabilities\" of predicted classes\n",
    "    y_rand = np.random.uniform(low=0.000, high=1.000, size=test.shape[0], )\n",
    "    \n",
    "    preds = clf.predict(X_test)\n",
    "    test['preds'] = preds\n",
    "    \n",
    "    #data for roc_auc\n",
    "    fpri, tpri, thresholdsi = roc_curve(y_test, predictions)\n",
    "    roc_auc.append(roc_auc_score(y_test, predictions))\n",
    "    tpr.append(interp(mean_fpr, fpri, tpri))\n",
    "\n",
    "    #data for precision-recall curve\n",
    "    precision, recall, thresholds_pr = precision_recall_curve(y_test, predictions, )\n",
    "    pres.append(interp(mean_fpr, precision, recall))\n",
    "    precision_score.append(average_precision_score(y_test, predictions))\n",
    "    \n",
    "    idx_pr = np.abs(thresholds_pr - 0.5).argmin()\n",
    "    precision_fifty.append(precision[idx_pr])\n",
    "    \n",
    "    #data for random precision-recall curve\n",
    "    y_rand = np.array(y_rand)\n",
    "    y_test = np.array(y_test)\n",
    "    precision_rand, recall_rand, thresholds_rand = precision_recall_curve(y_test, y_rand, )\n",
    "    pres_rand.append(interp(mean_fpr, precision_rand, recall_rand))\n",
    "    \n",
    "    idx = np.abs(thresholds_rand - 0.5).argmin()\n",
    "    precision_rand_fifty.append(precision_rand[idx])"
   ]
  },
  {
   "cell_type": "code",
   "execution_count": 3,
   "metadata": {},
   "outputs": [],
   "source": [
    "pres = np.mean(pres, axis = 0)\n",
    "tpr = np.mean(tpr, axis = 0)\n",
    "roc_auc = np.mean(roc_auc, axis = 0)\n",
    "precision_score = np.mean(precision_score, axis = 0)\n",
    "pres_rand = np.mean(pres_rand, axis = 0)\n",
    "precision_rand_fifty = np.mean(precision_rand_fifty, axis = 0)\n",
    "precision_score_fifty = np.mean(precision_fifty, axis = 0)"
   ]
  },
  {
   "cell_type": "code",
   "execution_count": 5,
   "metadata": {},
   "outputs": [
    {
     "data": {
      "image/png": "[encoded data removed]",
      "text/plain": [
       "<matplotlib.figure.Figure at 0x205abc6e7b8>"
      ]
     },
     "metadata": {},
     "output_type": "display_data"
    },
    {
     "name": "stdout",
     "output_type": "stream",
     "text": [
      "Precision for 50% threshold is 0.69645582877\n"
     ]
    },
    {
     "data": {
      "image/png": "[encoded data removed]",
      "text/plain": [
       "<matplotlib.figure.Figure at 0x205abbd9da0>"
      ]
     },
     "metadata": {},
     "output_type": "display_data"
    },
    {
     "name": "stdout",
     "output_type": "stream",
     "text": [
      "roc_auc_score is 0.686436647089\n",
      "precision_score is 0.794561099014\n"
     ]
    },
    {
     "data": {
      "image/png": "[encoded data removed]",
      "text/plain": [
       "<matplotlib.figure.Figure at 0x205abbd9f98>"
      ]
     },
     "metadata": {},
     "output_type": "display_data"
    },
    {
     "name": "stdout",
     "output_type": "stream",
     "text": [
      "Precision for 50% threshold is 0.643878436692\n"
     ]
    }
   ],
   "source": [
    "plt.figure(figsize=(7,7))\n",
    "plt.plot(mean_fpr,pres, color = 'darkorange')\n",
    "plt.xlabel('Recall')\n",
    "plt.ylabel('Precision')\n",
    "plt.show()\n",
    "print(\"Precision for 50% threshold is \" + str(precision_score_fifty))\n",
    "\n",
    "plt.figure(figsize=(7,7))\n",
    "plt.plot(mean_fpr, tpr, color='blue')\n",
    "plt.xlabel('False positive rate')\n",
    "plt.ylabel('True positive rate')\n",
    "plt.show()\n",
    "\n",
    "print(\"roc_auc_score is \" + str(roc_auc))\n",
    "print(\"precision_score is \" + str(precision_score))\n",
    "\n",
    "plt.figure(figsize=(7,7))\n",
    "plt.plot(mean_fpr,pres_rand, color = 'red')\n",
    "plt.xlabel('Recall')\n",
    "plt.ylabel('Precision')\n",
    "plt.show()\n",
    "print(\"Precision for 50% threshold is \" + str(precision_rand_fifty))"
   ]
  },
  {
   "cell_type": "code",
   "execution_count": 6,
   "metadata": {},
   "outputs": [
    {
     "data": {
      "text/plain": [
       "[(0.0023148313817768196, 'FPR_min'),\n",
       " (0.007319091598354549, 'TPR_min'),\n",
       " (0.007695059097069867, 'TPR/FPRsum1'),\n",
       " (0.009815035417049416, 'TPR/FPRsum_min'),\n",
       " (0.009908660788796052, 'FPR_1'),\n",
       " (0.010183043737198274, 'FPR_2'),\n",
       " (0.010395111514820563, 'TPR/FPRsum3'),\n",
       " (0.010602726044107929, 'FPR_5'),\n",
       " (0.010627393988806248, 'FPR_3'),\n",
       " (0.010727657985973395, 'TPR_3'),\n",
       " (0.010975913162025576, 'FPR_7'),\n",
       " (0.011149980887515839, 'TPR_4'),\n",
       " (0.011376327858187246, 'TPR_5'),\n",
       " (0.011400667106762786, 'FPR_4'),\n",
       " (0.01146567021006233, 'TPR_2'),\n",
       " (0.011575167564498647, 'f_newC'),\n",
       " (0.011602157850957443, 'U_newC'),\n",
       " (0.011757958889271421, 'TPR_6'),\n",
       " (0.011808672323334261, 'IC_num'),\n",
       " (0.01193400621319236, 'TPR/FPRsum4'),\n",
       " (0.011974601506744608, 'TPR/FPRsum5'),\n",
       " (0.011979385352425539, 'GC_num'),\n",
       " (0.01199551971113411, 'U_FMC'),\n",
       " (0.012022508164590558, 'FPR_8'),\n",
       " (0.012174300791472125, 'FPR_6'),\n",
       " (0.012229981549030716, 'TPR_8'),\n",
       " (0.012231324560036387, 'FPR_max'),\n",
       " (0.012292171030113135, 'TPR/FPRsum2'),\n",
       " (0.012297019483343965, 'U_OLS/MD^2'),\n",
       " (0.012304403211861619, 'TPR/FPRsum7'),\n",
       " (0.01233982116689175, 'TPR_1'),\n",
       " (0.01240186099913037, 'FPR_9'),\n",
       " (0.01242665102574343, 'TPR/FPRsum6'),\n",
       " (0.012436847192828778, 'TPR_7'),\n",
       " (0.012851710286676598, 'goodC_num'),\n",
       " (0.01295892546917941, 'U_OLS'),\n",
       " (0.013102728341450164, 'U_tree_length'),\n",
       " (0.01313353053760763, 'f_fastmeC'),\n",
       " (0.013192043713787866, 'f_FMC'),\n",
       " (0.013406768170196438, 'f_OLS/MD^2'),\n",
       " (0.013422038466279141, 'f_tree_length'),\n",
       " (0.013495679384742127, 'f_MEC'),\n",
       " (0.013524368182634796, 'f_OLS'),\n",
       " (0.01362470324228509, 'TPR_9'),\n",
       " (0.013694219140619853, 'U_MEC'),\n",
       " (0.013953084476385378, 'length'),\n",
       " (0.014005847427690742, 'MD'),\n",
       " (0.014101261038789378, 'f_jk30'),\n",
       " (0.014104383072919698, 'f_topo'),\n",
       " (0.01416953185010021, 'U_fastmeC'),\n",
       " (0.014190501386925576, 'U_jk30'),\n",
       " (0.0142404959238563, 'IC%'),\n",
       " (0.014423992378087332, 'f_jk50'),\n",
       " (0.014618288425028743, 'TPR/FPRsum8'),\n",
       " (0.015000239347338205, 'U_jk70'),\n",
       " (0.015012053244199141, 'TPR_max'),\n",
       " (0.015204321156335604, 'U_jk50'),\n",
       " (0.015295339177457467, 'f/U_jk30'),\n",
       " (0.015319444170173148, 'f_jk70'),\n",
       " (0.015384645199394555, 'f/U_OLS'),\n",
       " (0.015576077645109985, 'TPR/FPRsum9'),\n",
       " (0.01586598961605393, 'TPR/FPRsum_max'),\n",
       " (0.016144595856700635, 'U_newC/nonIC_num'),\n",
       " (0.01633300755311399, 'f_newC/nonIC_num'),\n",
       " (0.016564065636196095, 'f/U_MEC'),\n",
       " (0.0171942449180455, 'f/U_jk50'),\n",
       " (0.017599217480959498, 'U_topo'),\n",
       " (0.01774140931422289, 'f/U_FMC'),\n",
       " (0.018164661397517504, 'f/U_jk70'),\n",
       " (0.027848901318384797, 'f/U_topo'),\n",
       " (0.03838753936347169, 'f/U_newC'),\n",
       " (0.0414086173249747, 'f/U_fastmeC')]"
      ]
     },
     "execution_count": 6,
     "metadata": {},
     "output_type": "execute_result"
    }
   ],
   "source": [
    "#feature importances for the last fold\n",
    "\n",
    "features_= features.tolist()\n",
    "feature_importances = clf.feature_importances_.tolist()\n",
    "important_features = zip(feature_importances, features_)\n",
    "\n",
    "sorted(important_features)"
   ]
  },
  {
   "cell_type": "code",
   "execution_count": null,
   "metadata": {
    "collapsed": true
   },
   "outputs": [],
   "source": []
  }
 ],
 "metadata": {
  "kernelspec": {
   "display_name": "Python 3",
   "language": "python",
   "name": "python3"
  },
  "language_info": {
   "codemirror_mode": {
    "name": "ipython",
    "version": 3
   },
   "file_extension": ".py",
   "mimetype": "text/x-python",
   "name": "python",
   "nbconvert_exporter": "python",
   "pygments_lexer": "ipython3",
   "version": "3.6.3"
  }
 },
 "nbformat": 4,
 "nbformat_minor": 2
}
