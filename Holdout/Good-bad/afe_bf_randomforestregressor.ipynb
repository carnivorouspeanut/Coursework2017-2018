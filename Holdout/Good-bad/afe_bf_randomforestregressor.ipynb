{
 "cells": [
  {
   "cell_type": "code",
   "execution_count": 1,
   "metadata": {
    "collapsed": true
   },
   "outputs": [],
   "source": [
    "import numpy as np\n",
    "import pandas as pd\n",
    "import matplotlib.pyplot as plt\n",
    "import seaborn as sns"
   ]
  },
  {
   "cell_type": "code",
   "execution_count": 2,
   "metadata": {
    "collapsed": true
   },
   "outputs": [],
   "source": [
    "# open dfs\n",
    "bact_f = pd.read_table('proteobacteria-f_fitch_g-b.txt')\n",
    "bact_g = pd.read_table('proteobacteria-g_fitch_g-b.txt')\n",
    "fun = pd.read_table('fungi_fitch_g-b.txt')\n",
    "euk = pd.read_table('eukaryota_fitch_g-b.txt')\n",
    "archaea = pd.read_table('archaea_fitch_g-b.txt')\n",
    "\n",
    "# merging the training set\n",
    "frames = [archaea, fun, euk]\n",
    "train = pd.concat(frames)\n",
    "test = bact_f\n",
    "\n",
    "# Create a list of the feature column's names\n",
    "features = train.columns[1:-1]\n",
    "X_train = train[features].as_matrix()\n",
    "X_test = test[features].as_matrix()\n",
    "\n",
    "y_train = train['division'] == 'good'\n",
    "y_test = test['division'] == 'good'"
   ]
  },
  {
   "cell_type": "code",
   "execution_count": 3,
   "metadata": {
    "collapsed": true
   },
   "outputs": [],
   "source": [
    "from sklearn.preprocessing import StandardScaler\n",
    "scaler = StandardScaler().fit(X_train)\n",
    "X_train_scaled = pd.DataFrame(scaler.transform(X_train))\n",
    "X_test_scaled = pd.DataFrame(scaler.transform(X_test))"
   ]
  },
  {
   "cell_type": "code",
   "execution_count": 5,
   "metadata": {
    "collapsed": true
   },
   "outputs": [],
   "source": [
    "#from sklearn.decomposition import PCA\n",
    "#pca = PCA().fit(X_train)\n",
    "#pca_samples = pca.transform(X_train)"
   ]
  },
  {
   "cell_type": "code",
   "execution_count": null,
   "metadata": {
    "collapsed": true
   },
   "outputs": [],
   "source": [
    "#NO! NOT READY!\n",
    "\n",
    "# Dimension indexing\n",
    "dimensions = ['Dimension {}'.format(i) for i in range(1,len(pca.components_)+1)]\n",
    "    \n",
    "# PCA components\n",
    "components = pd.DataFrame(np.round(pca.components_, 4), columns = train.columns.values[1:-1]) \n",
    "components.index = dimensions\n",
    "\n",
    "# PCA explained variance\n",
    "ratios = pca.explained_variance_ratio_.reshape(len(pca.components_), 1) \n",
    "variance_ratios = pd.DataFrame(np.round(ratios, 4), columns = ['Explained Variance']) \n",
    "variance_ratios.index = dimensions\n",
    "\n",
    "# Create a bar plot visualization\n",
    "fig, ax = plt.subplots(figsize = (14,8))\n",
    "\n",
    "# Plot the feature weights as a function of the components\n",
    "components.plot(ax = ax, kind = 'bar')\n",
    "ax.set_ylabel(\"Feature Weights\") \n",
    "ax.set_xticklabels(dimensions, rotation=0)\n",
    "\n",
    "# Display the explained variance ratios# \n",
    "#for i, ev in enumerate(pca.explained_variance_ratio_): \n",
    "    #ax.text(i-0.40, ax.get_ylim()[1] + 0.05, \"Explained Variance\\n %.4f\"%(ev))\n",
    "\n",
    "# Return a concatenated DataFrame\n",
    "#return pd.concat([variance_ratios, components], axis = 1)\n",
    "\n",
    "#pca_results = pca_results(data, pca)"
   ]
  },
  {
   "cell_type": "code",
   "execution_count": 7,
   "metadata": {},
   "outputs": [
    {
     "data": {
      "text/plain": [
       "RandomForestRegressor(bootstrap=True, criterion='mse', max_depth=None,\n",
       "           max_features='auto', max_leaf_nodes=None,\n",
       "           min_impurity_decrease=0.0, min_impurity_split=None,\n",
       "           min_samples_leaf=1, min_samples_split=2,\n",
       "           min_weight_fraction_leaf=0.0, n_estimators=500, n_jobs=1,\n",
       "           oob_score=True, random_state=0, verbose=0, warm_start=False)"
      ]
     },
     "execution_count": 7,
     "metadata": {},
     "output_type": "execute_result"
    }
   ],
   "source": [
    "from sklearn.ensemble import RandomForestRegressor\n",
    "rf = RandomForestRegressor(n_estimators=500, oob_score=True, random_state=0)\n",
    "rf.fit(X_train, y_train)"
   ]
  },
  {
   "cell_type": "code",
   "execution_count": 8,
   "metadata": {
    "collapsed": true
   },
   "outputs": [],
   "source": [
    "predicted_train = rf.predict(X_train)\n",
    "predicted_test = rf.predict(X_test)"
   ]
  },
  {
   "cell_type": "code",
   "execution_count": 9,
   "metadata": {},
   "outputs": [
    {
     "data": {
      "image/png": "[encoded data removed]",
      "text/plain": [
       "<matplotlib.figure.Figure at 0xc161c18>"
      ]
     },
     "metadata": {},
     "output_type": "display_data"
    }
   ],
   "source": [
    "#we are bad af in prediction: wery wide range in both cases\n",
    "plt.scatter(y_test, predicted_test)\n",
    "plt.xlabel(\"test values\")\n",
    "plt.ylabel(\"train values\")\n",
    "plt.show()"
   ]
  },
  {
   "cell_type": "code",
   "execution_count": 10,
   "metadata": {
    "collapsed": true
   },
   "outputs": [],
   "source": [
    "from sklearn.metrics import r2_score\n",
    "from scipy.stats import spearmanr, pearsonr"
   ]
  },
  {
   "cell_type": "code",
   "execution_count": 11,
   "metadata": {},
   "outputs": [
    {
     "name": "stdout",
     "output_type": "stream",
     "text": [
      "Test data Spearman correlation:  SpearmanrResult(correlation=0.49086447197690436, pvalue=5.1939158331641939e-46)\n",
      "Test data Pearson correlation:  (0.51735164632144548, 9.3079440140703811e-52)\n"
     ]
    }
   ],
   "source": [
    "spearman = spearmanr(y_test, predicted_test)\n",
    "pearson = pearsonr(y_test, predicted_test)\n",
    "\n",
    "print 'Test data Spearman correlation: ', spearman\n",
    "print 'Test data Pearson correlation: ', pearson"
   ]
  },
  {
   "cell_type": "code",
   "execution_count": null,
   "metadata": {
    "collapsed": true
   },
   "outputs": [],
   "source": []
  }
 ],
 "metadata": {
  "kernelspec": {
   "display_name": "Python 2",
   "language": "python",
   "name": "python2"
  },
  "language_info": {
   "codemirror_mode": {
    "name": "ipython",
    "version": 2
   },
   "file_extension": ".py",
   "mimetype": "text/x-python",
   "name": "python",
   "nbconvert_exporter": "python",
   "pygments_lexer": "ipython2",
   "version": "2.7.14"
  }
 },
 "nbformat": 4,
 "nbformat_minor": 2
}
