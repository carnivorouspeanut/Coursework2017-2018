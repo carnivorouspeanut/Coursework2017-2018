{
 "cells": [
  {
   "cell_type": "code",
   "execution_count": 1,
   "metadata": {
    "collapsed": true
   },
   "outputs": [],
   "source": [
    "import numpy as np\n",
    "from catboost import CatBoostClassifier\n",
    "import pandas as pd"
   ]
  },
  {
   "cell_type": "code",
   "execution_count": 4,
   "metadata": {
    "collapsed": true
   },
   "outputs": [],
   "source": [
    "# open dfs\n",
    "bact_f = pd.read_table('proteobacteria-f_fitch_g-b.txt')\n",
    "bact_g = pd.read_table('proteobacteria-g_fitch_g-b.txt')\n",
    "fun = pd.read_table('fungi_fitch_g-b.txt')\n",
    "euk = pd.read_table('eukaryota_fitch_g-b.txt')\n",
    "archaea = pd.read_table('archaea_fitch_g-b.txt')\n",
    "\n",
    "# merging the training set\n",
    "frames = [archaea, fun, euk]\n",
    "train = pd.concat(frames)\n",
    "test = bact_f\n",
    "\n",
    "# Create a list of the feature column's names\n",
    "features = train.columns[1:-1]\n",
    "X_train = train[features].as_matrix()\n",
    "X_test = test[features].as_matrix()\n",
    "\n",
    "y_train = train['division'] == 'good'\n",
    "y_test = test['division'] == 'good'"
   ]
  },
  {
   "cell_type": "code",
   "execution_count": 5,
   "metadata": {
    "collapsed": true
   },
   "outputs": [],
   "source": [
    "# specify the training parameters \n",
    "model = CatBoostClassifier(iterations=50, depth=6, learning_rate=1, loss_function='Logloss', \n",
    "                           use_best_model=True, od_type = 'Iter')"
   ]
  },
  {
   "cell_type": "code",
   "execution_count": 6,
   "metadata": {},
   "outputs": [
    {
     "name": "stdout",
     "output_type": "stream",
     "text": [
      "0: learn: 0.3966365\ttest: 0.5322807\tbestTest: 0.5322807 (0)\ttotal: 327ms\tremaining: 16s\n",
      "1: learn: 0.3515412\ttest: 0.5140478\tbestTest: 0.5140478 (1)\ttotal: 597ms\tremaining: 14.3s\n",
      "2: learn: 0.334269\ttest: 0.5243978\tbestTest: 0.5140478 (1)\ttotal: 883ms\tremaining: 13.8s\n",
      "3: learn: 0.3221468\ttest: 0.5409369\tbestTest: 0.5140478 (1)\ttotal: 1.08s\tremaining: 12.5s\n",
      "4: learn: 0.3145352\ttest: 0.5474626\tbestTest: 0.5140478 (1)\ttotal: 1.27s\tremaining: 11.4s\n",
      "5: learn: 0.3015481\ttest: 0.528843\tbestTest: 0.5140478 (1)\ttotal: 1.45s\tremaining: 10.6s\n",
      "6: learn: 0.2918574\ttest: 0.5303868\tbestTest: 0.5140478 (1)\ttotal: 1.56s\tremaining: 9.6s\n",
      "7: learn: 0.2836233\ttest: 0.5336292\tbestTest: 0.5140478 (1)\ttotal: 1.68s\tremaining: 8.82s\n",
      "8: learn: 0.2735608\ttest: 0.5389729\tbestTest: 0.5140478 (1)\ttotal: 1.78s\tremaining: 8.12s\n",
      "9: learn: 0.2585288\ttest: 0.5722857\tbestTest: 0.5140478 (1)\ttotal: 1.88s\tremaining: 7.51s\n",
      "10: learn: 0.2479359\ttest: 0.564647\tbestTest: 0.5140478 (1)\ttotal: 1.99s\tremaining: 7.07s\n",
      "11: learn: 0.234291\ttest: 0.5773397\tbestTest: 0.5140478 (1)\ttotal: 2.12s\tremaining: 6.71s\n",
      "12: learn: 0.2253236\ttest: 0.5926098\tbestTest: 0.5140478 (1)\ttotal: 2.22s\tremaining: 6.32s\n",
      "13: learn: 0.2142472\ttest: 0.601192\tbestTest: 0.5140478 (1)\ttotal: 2.3s\tremaining: 5.92s\n",
      "14: learn: 0.2045551\ttest: 0.605341\tbestTest: 0.5140478 (1)\ttotal: 2.4s\tremaining: 5.59s\n",
      "15: learn: 0.1999005\ttest: 0.6143335\tbestTest: 0.5140478 (1)\ttotal: 2.49s\tremaining: 5.28s\n",
      "16: learn: 0.193124\ttest: 0.6111323\tbestTest: 0.5140478 (1)\ttotal: 2.56s\tremaining: 4.98s\n",
      "17: learn: 0.1862117\ttest: 0.6109675\tbestTest: 0.5140478 (1)\ttotal: 2.66s\tremaining: 4.72s\n",
      "18: learn: 0.1781095\ttest: 0.6086037\tbestTest: 0.5140478 (1)\ttotal: 2.74s\tremaining: 4.47s\n",
      "19: learn: 0.1736204\ttest: 0.6060548\tbestTest: 0.5140478 (1)\ttotal: 2.82s\tremaining: 4.23s\n",
      "20: learn: 0.1694337\ttest: 0.612896\tbestTest: 0.5140478 (1)\ttotal: 2.89s\tremaining: 3.99s\n",
      "21: learn: 0.1632866\ttest: 0.6203262\tbestTest: 0.5140478 (1)\ttotal: 2.98s\tremaining: 3.79s\n",
      "22: learn: 0.1580753\ttest: 0.6355452\tbestTest: 0.5140478 (1)\ttotal: 3.05s\tremaining: 3.58s\n",
      "Stopped by overfitting detector  (20 iterations wait)\n",
      "\n",
      "bestTest = 0.5140478071\n",
      "bestIteration = 1\n",
      "\n",
      "Shrink model to first 2 iterations.\n"
     ]
    },
    {
     "data": {
      "text/plain": [
       "<catboost.core._CatBoostBase at 0x884ecc0>"
      ]
     },
     "execution_count": 6,
     "metadata": {},
     "output_type": "execute_result"
    }
   ],
   "source": [
    "#train the model\n",
    "model.fit(X_train, y_train, eval_set=(X_test, y_test))"
   ]
  },
  {
   "cell_type": "code",
   "execution_count": 8,
   "metadata": {
    "collapsed": true
   },
   "outputs": [],
   "source": [
    "preds_class = model.predict(X_test)\n",
    "preds_proba = model.predict_proba(X_test)\n",
    "preds_proba = pd.DataFrame(data=preds_proba)[1]\n",
    "#print(\"class = \", preds_class)\n",
    "#print(\"proba = \", preds_proba)\n"
   ]
  },
  {
   "cell_type": "code",
   "execution_count": 9,
   "metadata": {
    "collapsed": true
   },
   "outputs": [],
   "source": [
    "from sklearn.metrics import f1_score\n",
    "from sklearn.metrics import precision_recall_curve\n",
    "from sklearn.metrics import average_precision_score\n",
    "from sklearn.metrics import roc_curve\n",
    "from sklearn.metrics import roc_auc_score\n",
    "import matplotlib.pyplot as plt"
   ]
  },
  {
   "cell_type": "code",
   "execution_count": 10,
   "metadata": {},
   "outputs": [
    {
     "name": "stdout",
     "output_type": "stream",
     "text": [
      "0.624113475177\n"
     ]
    }
   ],
   "source": [
    "print f1_score(y_test, preds_class)"
   ]
  },
  {
   "cell_type": "code",
   "execution_count": 12,
   "metadata": {},
   "outputs": [
    {
     "data": {
      "image/png": "[encoded data removed]",
      "text/plain": [
       "<matplotlib.figure.Figure at 0xe0250f0>"
      ]
     },
     "metadata": {},
     "output_type": "display_data"
    },
    {
     "name": "stdout",
     "output_type": "stream",
     "text": [
      "average precision score  0.581791892615\n"
     ]
    }
   ],
   "source": [
    "precision, recall, _ = precision_recall_curve(y_test, preds_proba)\n",
    "\n",
    "plt.figure(figsize = (7, 7))\n",
    "plt.plot(recall, precision, color = 'darkorange')\n",
    "plt.xlabel(\"Recall\")\n",
    "plt.ylabel(\"Precision\")\n",
    "plt.show()\n",
    "\n",
    "print \"average precision score \", average_precision_score(y_test, preds_proba)"
   ]
  },
  {
   "cell_type": "code",
   "execution_count": 13,
   "metadata": {},
   "outputs": [
    {
     "data": {
      "image/png": "[encoded data removed]",
      "text/plain": [
       "<matplotlib.figure.Figure at 0xe2a6ac8>"
      ]
     },
     "metadata": {},
     "output_type": "display_data"
    },
    {
     "name": "stdout",
     "output_type": "stream",
     "text": [
      "AUC:  0.79041444214\n"
     ]
    }
   ],
   "source": [
    "fpr, tpr, _ = roc_curve(y_test, preds_proba)\n",
    "\n",
    "plt.figure(figsize = (7, 7))\n",
    "plt.plot(fpr, tpr, color = 'blue')\n",
    "plt.plot([0, 1], [0, 1], color = 'red')\n",
    "plt.xlabel(\"False positive rate\")\n",
    "plt.ylabel(\"True positive rate\")\n",
    "plt.show()\n",
    "\n",
    "print \"AUC: \", roc_auc_score(y_test, preds_proba)"
   ]
  },
  {
   "cell_type": "code",
   "execution_count": 15,
   "metadata": {},
   "outputs": [
    {
     "data": {
      "text/html": [
       "<div>\n",
       "<style scoped>\n",
       "    .dataframe tbody tr th:only-of-type {\n",
       "        vertical-align: middle;\n",
       "    }\n",
       "\n",
       "    .dataframe tbody tr th {\n",
       "        vertical-align: top;\n",
       "    }\n",
       "\n",
       "    .dataframe thead th {\n",
       "        text-align: right;\n",
       "    }\n",
       "</style>\n",
       "<table border=\"1\" class=\"dataframe\">\n",
       "  <thead>\n",
       "    <tr style=\"text-align: right;\">\n",
       "      <th></th>\n",
       "      <th>division</th>\n",
       "      <th>1</th>\n",
       "    </tr>\n",
       "  </thead>\n",
       "  <tbody>\n",
       "    <tr>\n",
       "      <th>0</th>\n",
       "      <td>False</td>\n",
       "      <td>0.717616</td>\n",
       "    </tr>\n",
       "    <tr>\n",
       "      <th>1</th>\n",
       "      <td>True</td>\n",
       "      <td>0.732330</td>\n",
       "    </tr>\n",
       "    <tr>\n",
       "      <th>2</th>\n",
       "      <td>True</td>\n",
       "      <td>0.565350</td>\n",
       "    </tr>\n",
       "    <tr>\n",
       "      <th>3</th>\n",
       "      <td>False</td>\n",
       "      <td>0.137325</td>\n",
       "    </tr>\n",
       "    <tr>\n",
       "      <th>4</th>\n",
       "      <td>False</td>\n",
       "      <td>0.881831</td>\n",
       "    </tr>\n",
       "    <tr>\n",
       "      <th>5</th>\n",
       "      <td>False</td>\n",
       "      <td>0.046417</td>\n",
       "    </tr>\n",
       "    <tr>\n",
       "      <th>6</th>\n",
       "      <td>False</td>\n",
       "      <td>0.069269</td>\n",
       "    </tr>\n",
       "    <tr>\n",
       "      <th>7</th>\n",
       "      <td>False</td>\n",
       "      <td>0.005589</td>\n",
       "    </tr>\n",
       "    <tr>\n",
       "      <th>8</th>\n",
       "      <td>False</td>\n",
       "      <td>0.543150</td>\n",
       "    </tr>\n",
       "    <tr>\n",
       "      <th>9</th>\n",
       "      <td>True</td>\n",
       "      <td>0.953645</td>\n",
       "    </tr>\n",
       "    <tr>\n",
       "      <th>10</th>\n",
       "      <td>False</td>\n",
       "      <td>0.143840</td>\n",
       "    </tr>\n",
       "    <tr>\n",
       "      <th>11</th>\n",
       "      <td>False</td>\n",
       "      <td>0.002181</td>\n",
       "    </tr>\n",
       "    <tr>\n",
       "      <th>12</th>\n",
       "      <td>False</td>\n",
       "      <td>0.033758</td>\n",
       "    </tr>\n",
       "    <tr>\n",
       "      <th>13</th>\n",
       "      <td>True</td>\n",
       "      <td>0.762797</td>\n",
       "    </tr>\n",
       "    <tr>\n",
       "      <th>14</th>\n",
       "      <td>True</td>\n",
       "      <td>0.502858</td>\n",
       "    </tr>\n",
       "    <tr>\n",
       "      <th>15</th>\n",
       "      <td>False</td>\n",
       "      <td>0.322894</td>\n",
       "    </tr>\n",
       "    <tr>\n",
       "      <th>16</th>\n",
       "      <td>True</td>\n",
       "      <td>0.986819</td>\n",
       "    </tr>\n",
       "    <tr>\n",
       "      <th>17</th>\n",
       "      <td>False</td>\n",
       "      <td>0.961288</td>\n",
       "    </tr>\n",
       "    <tr>\n",
       "      <th>18</th>\n",
       "      <td>True</td>\n",
       "      <td>0.717616</td>\n",
       "    </tr>\n",
       "    <tr>\n",
       "      <th>19</th>\n",
       "      <td>False</td>\n",
       "      <td>0.034882</td>\n",
       "    </tr>\n",
       "    <tr>\n",
       "      <th>20</th>\n",
       "      <td>False</td>\n",
       "      <td>0.137325</td>\n",
       "    </tr>\n",
       "    <tr>\n",
       "      <th>21</th>\n",
       "      <td>False</td>\n",
       "      <td>0.039818</td>\n",
       "    </tr>\n",
       "    <tr>\n",
       "      <th>22</th>\n",
       "      <td>True</td>\n",
       "      <td>0.552053</td>\n",
       "    </tr>\n",
       "    <tr>\n",
       "      <th>23</th>\n",
       "      <td>False</td>\n",
       "      <td>0.033758</td>\n",
       "    </tr>\n",
       "    <tr>\n",
       "      <th>24</th>\n",
       "      <td>True</td>\n",
       "      <td>0.143840</td>\n",
       "    </tr>\n",
       "    <tr>\n",
       "      <th>25</th>\n",
       "      <td>True</td>\n",
       "      <td>0.926517</td>\n",
       "    </tr>\n",
       "    <tr>\n",
       "      <th>26</th>\n",
       "      <td>False</td>\n",
       "      <td>0.002562</td>\n",
       "    </tr>\n",
       "    <tr>\n",
       "      <th>27</th>\n",
       "      <td>False</td>\n",
       "      <td>0.011872</td>\n",
       "    </tr>\n",
       "    <tr>\n",
       "      <th>28</th>\n",
       "      <td>True</td>\n",
       "      <td>0.354454</td>\n",
       "    </tr>\n",
       "    <tr>\n",
       "      <th>29</th>\n",
       "      <td>False</td>\n",
       "      <td>0.005589</td>\n",
       "    </tr>\n",
       "    <tr>\n",
       "      <th>...</th>\n",
       "      <td>...</td>\n",
       "      <td>...</td>\n",
       "    </tr>\n",
       "    <tr>\n",
       "      <th>708</th>\n",
       "      <td>False</td>\n",
       "      <td>0.033758</td>\n",
       "    </tr>\n",
       "    <tr>\n",
       "      <th>709</th>\n",
       "      <td>False</td>\n",
       "      <td>0.717616</td>\n",
       "    </tr>\n",
       "    <tr>\n",
       "      <th>710</th>\n",
       "      <td>True</td>\n",
       "      <td>0.137325</td>\n",
       "    </tr>\n",
       "    <tr>\n",
       "      <th>711</th>\n",
       "      <td>False</td>\n",
       "      <td>0.143840</td>\n",
       "    </tr>\n",
       "    <tr>\n",
       "      <th>712</th>\n",
       "      <td>False</td>\n",
       "      <td>0.137788</td>\n",
       "    </tr>\n",
       "    <tr>\n",
       "      <th>713</th>\n",
       "      <td>False</td>\n",
       "      <td>0.131504</td>\n",
       "    </tr>\n",
       "    <tr>\n",
       "      <th>714</th>\n",
       "      <td>False</td>\n",
       "      <td>0.022265</td>\n",
       "    </tr>\n",
       "    <tr>\n",
       "      <th>715</th>\n",
       "      <td>False</td>\n",
       "      <td>0.137325</td>\n",
       "    </tr>\n",
       "    <tr>\n",
       "      <th>716</th>\n",
       "      <td>False</td>\n",
       "      <td>0.143840</td>\n",
       "    </tr>\n",
       "    <tr>\n",
       "      <th>717</th>\n",
       "      <td>False</td>\n",
       "      <td>0.137325</td>\n",
       "    </tr>\n",
       "    <tr>\n",
       "      <th>718</th>\n",
       "      <td>True</td>\n",
       "      <td>0.876094</td>\n",
       "    </tr>\n",
       "    <tr>\n",
       "      <th>719</th>\n",
       "      <td>False</td>\n",
       "      <td>0.565350</td>\n",
       "    </tr>\n",
       "    <tr>\n",
       "      <th>720</th>\n",
       "      <td>False</td>\n",
       "      <td>0.565350</td>\n",
       "    </tr>\n",
       "    <tr>\n",
       "      <th>721</th>\n",
       "      <td>False</td>\n",
       "      <td>0.035429</td>\n",
       "    </tr>\n",
       "    <tr>\n",
       "      <th>722</th>\n",
       "      <td>False</td>\n",
       "      <td>0.008639</td>\n",
       "    </tr>\n",
       "    <tr>\n",
       "      <th>723</th>\n",
       "      <td>True</td>\n",
       "      <td>0.565350</td>\n",
       "    </tr>\n",
       "    <tr>\n",
       "      <th>724</th>\n",
       "      <td>False</td>\n",
       "      <td>0.002181</td>\n",
       "    </tr>\n",
       "    <tr>\n",
       "      <th>725</th>\n",
       "      <td>True</td>\n",
       "      <td>0.888453</td>\n",
       "    </tr>\n",
       "    <tr>\n",
       "      <th>726</th>\n",
       "      <td>False</td>\n",
       "      <td>0.037806</td>\n",
       "    </tr>\n",
       "    <tr>\n",
       "      <th>727</th>\n",
       "      <td>False</td>\n",
       "      <td>0.762797</td>\n",
       "    </tr>\n",
       "    <tr>\n",
       "      <th>728</th>\n",
       "      <td>False</td>\n",
       "      <td>0.502858</td>\n",
       "    </tr>\n",
       "    <tr>\n",
       "      <th>729</th>\n",
       "      <td>True</td>\n",
       "      <td>0.014976</td>\n",
       "    </tr>\n",
       "    <tr>\n",
       "      <th>730</th>\n",
       "      <td>False</td>\n",
       "      <td>0.543150</td>\n",
       "    </tr>\n",
       "    <tr>\n",
       "      <th>731</th>\n",
       "      <td>False</td>\n",
       "      <td>0.565350</td>\n",
       "    </tr>\n",
       "    <tr>\n",
       "      <th>732</th>\n",
       "      <td>True</td>\n",
       "      <td>0.035429</td>\n",
       "    </tr>\n",
       "    <tr>\n",
       "      <th>733</th>\n",
       "      <td>False</td>\n",
       "      <td>0.143840</td>\n",
       "    </tr>\n",
       "    <tr>\n",
       "      <th>734</th>\n",
       "      <td>True</td>\n",
       "      <td>0.552053</td>\n",
       "    </tr>\n",
       "    <tr>\n",
       "      <th>735</th>\n",
       "      <td>False</td>\n",
       "      <td>0.035429</td>\n",
       "    </tr>\n",
       "    <tr>\n",
       "      <th>736</th>\n",
       "      <td>True</td>\n",
       "      <td>0.881831</td>\n",
       "    </tr>\n",
       "    <tr>\n",
       "      <th>737</th>\n",
       "      <td>True</td>\n",
       "      <td>0.717616</td>\n",
       "    </tr>\n",
       "  </tbody>\n",
       "</table>\n",
       "<p>738 rows × 2 columns</p>\n",
       "</div>"
      ],
      "text/plain": [
       "     division         1\n",
       "0       False  0.717616\n",
       "1        True  0.732330\n",
       "2        True  0.565350\n",
       "3       False  0.137325\n",
       "4       False  0.881831\n",
       "5       False  0.046417\n",
       "6       False  0.069269\n",
       "7       False  0.005589\n",
       "8       False  0.543150\n",
       "9        True  0.953645\n",
       "10      False  0.143840\n",
       "11      False  0.002181\n",
       "12      False  0.033758\n",
       "13       True  0.762797\n",
       "14       True  0.502858\n",
       "15      False  0.322894\n",
       "16       True  0.986819\n",
       "17      False  0.961288\n",
       "18       True  0.717616\n",
       "19      False  0.034882\n",
       "20      False  0.137325\n",
       "21      False  0.039818\n",
       "22       True  0.552053\n",
       "23      False  0.033758\n",
       "24       True  0.143840\n",
       "25       True  0.926517\n",
       "26      False  0.002562\n",
       "27      False  0.011872\n",
       "28       True  0.354454\n",
       "29      False  0.005589\n",
       "..        ...       ...\n",
       "708     False  0.033758\n",
       "709     False  0.717616\n",
       "710      True  0.137325\n",
       "711     False  0.143840\n",
       "712     False  0.137788\n",
       "713     False  0.131504\n",
       "714     False  0.022265\n",
       "715     False  0.137325\n",
       "716     False  0.143840\n",
       "717     False  0.137325\n",
       "718      True  0.876094\n",
       "719     False  0.565350\n",
       "720     False  0.565350\n",
       "721     False  0.035429\n",
       "722     False  0.008639\n",
       "723      True  0.565350\n",
       "724     False  0.002181\n",
       "725      True  0.888453\n",
       "726     False  0.037806\n",
       "727     False  0.762797\n",
       "728     False  0.502858\n",
       "729      True  0.014976\n",
       "730     False  0.543150\n",
       "731     False  0.565350\n",
       "732      True  0.035429\n",
       "733     False  0.143840\n",
       "734      True  0.552053\n",
       "735     False  0.035429\n",
       "736      True  0.881831\n",
       "737      True  0.717616\n",
       "\n",
       "[738 rows x 2 columns]"
      ]
     },
     "execution_count": 15,
     "metadata": {},
     "output_type": "execute_result"
    }
   ],
   "source": [
    "y_test = pd.Series(data=y_test)\n",
    "preds_proba = pd.Series(data=preds_proba)\n",
    "comp = pd.concat([y_test, preds_proba], axis = 1)"
   ]
  },
  {
   "cell_type": "code",
   "execution_count": 16,
   "metadata": {},
   "outputs": [
    {
     "data": {
      "text/plain": [
       "<matplotlib.axes._subplots.AxesSubplot at 0xe8dfa20>"
      ]
     },
     "execution_count": 16,
     "metadata": {},
     "output_type": "execute_result"
    }
   ],
   "source": [
    "import seaborn as sns\n",
    "\n",
    "from sklearn.metrics import confusion_matrix\n",
    "cm = pd.DataFrame(confusion_matrix(y_test, preds_class))\n",
    "sns.heatmap(cm, annot=True)"
   ]
  },
  {
   "cell_type": "code",
   "execution_count": 17,
   "metadata": {},
   "outputs": [
    {
     "data": {
      "image/png": "[encoded data removed]",
      "text/plain": [
       "<matplotlib.figure.Figure at 0xe8c3c88>"
      ]
     },
     "metadata": {},
     "output_type": "display_data"
    }
   ],
   "source": [
    "plt.show()"
   ]
  },
  {
   "cell_type": "code",
   "execution_count": 18,
   "metadata": {},
   "outputs": [
    {
     "data": {
      "text/html": [
       "<div>\n",
       "<style scoped>\n",
       "    .dataframe tbody tr th:only-of-type {\n",
       "        vertical-align: middle;\n",
       "    }\n",
       "\n",
       "    .dataframe tbody tr th {\n",
       "        vertical-align: top;\n",
       "    }\n",
       "\n",
       "    .dataframe thead th {\n",
       "        text-align: right;\n",
       "    }\n",
       "</style>\n",
       "<table border=\"1\" class=\"dataframe\">\n",
       "  <thead>\n",
       "    <tr style=\"text-align: right;\">\n",
       "      <th></th>\n",
       "      <th>0</th>\n",
       "      <th>1</th>\n",
       "    </tr>\n",
       "  </thead>\n",
       "  <tbody>\n",
       "    <tr>\n",
       "      <th>0</th>\n",
       "      <td>447</td>\n",
       "      <td>94</td>\n",
       "    </tr>\n",
       "    <tr>\n",
       "      <th>1</th>\n",
       "      <td>65</td>\n",
       "      <td>132</td>\n",
       "    </tr>\n",
       "  </tbody>\n",
       "</table>\n",
       "</div>"
      ],
      "text/plain": [
       "     0    1\n",
       "0  447   94\n",
       "1   65  132"
      ]
     },
     "execution_count": 18,
     "metadata": {},
     "output_type": "execute_result"
    }
   ],
   "source": [
    "cm"
   ]
  },
  {
   "cell_type": "code",
   "execution_count": null,
   "metadata": {
    "collapsed": true
   },
   "outputs": [],
   "source": []
  }
 ],
 "metadata": {
  "kernelspec": {
   "display_name": "Python 2",
   "language": "python",
   "name": "python2"
  },
  "language_info": {
   "codemirror_mode": {
    "name": "ipython",
    "version": 2
   },
   "file_extension": ".py",
   "mimetype": "text/x-python",
   "name": "python",
   "nbconvert_exporter": "python",
   "pygments_lexer": "ipython2",
   "version": "2.7.14"
  }
 },
 "nbformat": 4,
 "nbformat_minor": 2
}
